{
 "cells": [
  {
   "cell_type": "code",
   "execution_count": 41,
   "id": "5c3bb033-6397-43a5-85e1-feba5dfb71ad",
   "metadata": {
    "tags": []
   },
   "outputs": [
    {
     "name": "stdout",
     "output_type": "stream",
     "text": [
      "Requirement already satisfied: pandas in c:\\users\\bigon\\anaconda3\\lib\\site-packages (1.5.3)\n",
      "Requirement already satisfied: pytz>=2020.1 in c:\\users\\bigon\\anaconda3\\lib\\site-packages (from pandas) (2022.7)\n",
      "Requirement already satisfied: python-dateutil>=2.8.1 in c:\\users\\bigon\\anaconda3\\lib\\site-packages (from pandas) (2.8.2)\n",
      "Requirement already satisfied: numpy>=1.21.0 in c:\\users\\bigon\\anaconda3\\lib\\site-packages (from pandas) (1.23.5)\n",
      "Requirement already satisfied: six>=1.5 in c:\\users\\bigon\\anaconda3\\lib\\site-packages (from python-dateutil>=2.8.1->pandas) (1.16.0)\n",
      "Requirement already satisfied: jupyter_dash in c:\\users\\bigon\\anaconda3\\envs\\myenv\\lib\\site-packages (0.4.2)\n",
      "Requirement already satisfied: dash in c:\\users\\bigon\\anaconda3\\envs\\myenv\\lib\\site-packages (from jupyter_dash) (2.14.1)\n",
      "Requirement already satisfied: requests in c:\\users\\bigon\\anaconda3\\envs\\myenv\\lib\\site-packages (from jupyter_dash) (2.27.1)\n",
      "Requirement already satisfied: flask in c:\\users\\bigon\\anaconda3\\envs\\myenv\\lib\\site-packages (from jupyter_dash) (3.0.0)\n",
      "Requirement already satisfied: retrying in c:\\users\\bigon\\anaconda3\\envs\\myenv\\lib\\site-packages (from jupyter_dash) (1.3.4)\n",
      "Requirement already satisfied: ipython in c:\\users\\bigon\\anaconda3\\envs\\myenv\\lib\\site-packages (from jupyter_dash) (8.12.3)\n",
      "Requirement already satisfied: ipykernel in c:\\users\\bigon\\anaconda3\\envs\\myenv\\lib\\site-packages (from jupyter_dash) (6.26.0)\n",
      "Requirement already satisfied: ansi2html in c:\\users\\bigon\\anaconda3\\envs\\myenv\\lib\\site-packages (from jupyter_dash) (1.8.0)\n",
      "Requirement already satisfied: nest-asyncio in c:\\users\\bigon\\anaconda3\\envs\\myenv\\lib\\site-packages (from jupyter_dash) (1.5.8)\n",
      "Requirement already satisfied: Werkzeug<3.1 in c:\\users\\bigon\\anaconda3\\envs\\myenv\\lib\\site-packages (from dash->jupyter_dash) (3.0.1)\n",
      "Requirement already satisfied: plotly>=5.0.0 in c:\\users\\bigon\\anaconda3\\envs\\myenv\\lib\\site-packages (from dash->jupyter_dash) (5.18.0)\n",
      "Requirement already satisfied: dash-html-components==2.0.0 in c:\\users\\bigon\\anaconda3\\envs\\myenv\\lib\\site-packages (from dash->jupyter_dash) (2.0.0)\n",
      "Requirement already satisfied: dash-core-components==2.0.0 in c:\\users\\bigon\\anaconda3\\envs\\myenv\\lib\\site-packages (from dash->jupyter_dash) (2.0.0)\n",
      "Requirement already satisfied: dash-table==5.0.0 in c:\\users\\bigon\\anaconda3\\envs\\myenv\\lib\\site-packages (from dash->jupyter_dash) (5.0.0)\n",
      "Requirement already satisfied: typing-extensions>=4.1.1 in c:\\users\\bigon\\anaconda3\\envs\\myenv\\lib\\site-packages (from dash->jupyter_dash) (4.8.0)\n",
      "Requirement already satisfied: setuptools in c:\\users\\bigon\\anaconda3\\envs\\myenv\\lib\\site-packages (from dash->jupyter_dash) (68.0.0)\n",
      "Requirement already satisfied: importlib-metadata in c:\\users\\bigon\\anaconda3\\envs\\myenv\\lib\\site-packages (from dash->jupyter_dash) (6.8.0)\n",
      "Requirement already satisfied: Jinja2>=3.1.2 in c:\\users\\bigon\\anaconda3\\envs\\myenv\\lib\\site-packages (from flask->jupyter_dash) (3.1.2)\n",
      "Requirement already satisfied: itsdangerous>=2.1.2 in c:\\users\\bigon\\anaconda3\\envs\\myenv\\lib\\site-packages (from flask->jupyter_dash) (2.1.2)\n",
      "Requirement already satisfied: click>=8.1.3 in c:\\users\\bigon\\anaconda3\\envs\\myenv\\lib\\site-packages (from flask->jupyter_dash) (8.1.7)\n",
      "Requirement already satisfied: blinker>=1.6.2 in c:\\users\\bigon\\anaconda3\\envs\\myenv\\lib\\site-packages (from flask->jupyter_dash) (1.6.3)\n",
      "Requirement already satisfied: comm>=0.1.1 in c:\\users\\bigon\\anaconda3\\envs\\myenv\\lib\\site-packages (from ipykernel->jupyter_dash) (0.1.4)\n",
      "Requirement already satisfied: debugpy>=1.6.5 in c:\\users\\bigon\\anaconda3\\envs\\myenv\\lib\\site-packages (from ipykernel->jupyter_dash) (1.8.0)\n",
      "Requirement already satisfied: jupyter-client>=6.1.12 in c:\\users\\bigon\\anaconda3\\envs\\myenv\\lib\\site-packages (from ipykernel->jupyter_dash) (8.5.0)\n",
      "Requirement already satisfied: jupyter-core!=5.0.*,>=4.12 in c:\\users\\bigon\\anaconda3\\envs\\myenv\\lib\\site-packages (from ipykernel->jupyter_dash) (5.5.0)\n",
      "Requirement already satisfied: matplotlib-inline>=0.1 in c:\\users\\bigon\\anaconda3\\envs\\myenv\\lib\\site-packages (from ipykernel->jupyter_dash) (0.1.6)\n",
      "Requirement already satisfied: packaging in c:\\users\\bigon\\anaconda3\\envs\\myenv\\lib\\site-packages (from ipykernel->jupyter_dash) (23.2)\n",
      "Requirement already satisfied: psutil in c:\\users\\bigon\\anaconda3\\envs\\myenv\\lib\\site-packages (from ipykernel->jupyter_dash) (5.9.6)\n",
      "Requirement already satisfied: pyzmq>=20 in c:\\users\\bigon\\anaconda3\\envs\\myenv\\lib\\site-packages (from ipykernel->jupyter_dash) (25.1.1)\n",
      "Requirement already satisfied: tornado>=6.1 in c:\\users\\bigon\\anaconda3\\envs\\myenv\\lib\\site-packages (from ipykernel->jupyter_dash) (6.3.3)\n",
      "Requirement already satisfied: traitlets>=5.4.0 in c:\\users\\bigon\\anaconda3\\envs\\myenv\\lib\\site-packages (from ipykernel->jupyter_dash) (5.13.0)\n",
      "Requirement already satisfied: backcall in c:\\users\\bigon\\anaconda3\\envs\\myenv\\lib\\site-packages (from ipython->jupyter_dash) (0.2.0)\n",
      "Requirement already satisfied: decorator in c:\\users\\bigon\\anaconda3\\envs\\myenv\\lib\\site-packages (from ipython->jupyter_dash) (5.1.1)\n",
      "Requirement already satisfied: jedi>=0.16 in c:\\users\\bigon\\anaconda3\\envs\\myenv\\lib\\site-packages (from ipython->jupyter_dash) (0.19.1)\n",
      "Requirement already satisfied: pickleshare in c:\\users\\bigon\\anaconda3\\envs\\myenv\\lib\\site-packages (from ipython->jupyter_dash) (0.7.5)\n",
      "Requirement already satisfied: prompt-toolkit!=3.0.37,<3.1.0,>=3.0.30 in c:\\users\\bigon\\anaconda3\\envs\\myenv\\lib\\site-packages (from ipython->jupyter_dash) (3.0.39)\n",
      "Requirement already satisfied: pygments>=2.4.0 in c:\\users\\bigon\\anaconda3\\envs\\myenv\\lib\\site-packages (from ipython->jupyter_dash) (2.16.1)\n",
      "Requirement already satisfied: stack-data in c:\\users\\bigon\\anaconda3\\envs\\myenv\\lib\\site-packages (from ipython->jupyter_dash) (0.6.3)\n",
      "Requirement already satisfied: colorama in c:\\users\\bigon\\anaconda3\\envs\\myenv\\lib\\site-packages (from ipython->jupyter_dash) (0.4.6)\n",
      "Requirement already satisfied: urllib3<1.27,>=1.21.1 in c:\\users\\bigon\\anaconda3\\envs\\myenv\\lib\\site-packages (from requests->jupyter_dash) (1.26.18)\n",
      "Requirement already satisfied: certifi>=2017.4.17 in c:\\users\\bigon\\anaconda3\\envs\\myenv\\lib\\site-packages (from requests->jupyter_dash) (2023.7.22)\n",
      "Requirement already satisfied: charset-normalizer~=2.0.0 in c:\\users\\bigon\\anaconda3\\envs\\myenv\\lib\\site-packages (from requests->jupyter_dash) (2.0.12)\n",
      "Requirement already satisfied: idna<4,>=2.5 in c:\\users\\bigon\\anaconda3\\envs\\myenv\\lib\\site-packages (from requests->jupyter_dash) (3.4)\n",
      "Requirement already satisfied: six>=1.7.0 in c:\\users\\bigon\\anaconda3\\envs\\myenv\\lib\\site-packages (from retrying->jupyter_dash) (1.16.0)\n",
      "Requirement already satisfied: zipp>=0.5 in c:\\users\\bigon\\anaconda3\\envs\\myenv\\lib\\site-packages (from importlib-metadata->dash->jupyter_dash) (3.17.0)\n",
      "Requirement already satisfied: parso<0.9.0,>=0.8.3 in c:\\users\\bigon\\anaconda3\\envs\\myenv\\lib\\site-packages (from jedi>=0.16->ipython->jupyter_dash) (0.8.3)\n",
      "Requirement already satisfied: MarkupSafe>=2.0 in c:\\users\\bigon\\anaconda3\\envs\\myenv\\lib\\site-packages (from Jinja2>=3.1.2->flask->jupyter_dash) (2.1.3)\n",
      "Requirement already satisfied: python-dateutil>=2.8.2 in c:\\users\\bigon\\anaconda3\\envs\\myenv\\lib\\site-packages (from jupyter-client>=6.1.12->ipykernel->jupyter_dash) (2.8.2)\n",
      "Requirement already satisfied: platformdirs>=2.5 in c:\\users\\bigon\\anaconda3\\envs\\myenv\\lib\\site-packages (from jupyter-core!=5.0.*,>=4.12->ipykernel->jupyter_dash) (3.11.0)\n",
      "Requirement already satisfied: pywin32>=300 in c:\\users\\bigon\\anaconda3\\envs\\myenv\\lib\\site-packages (from jupyter-core!=5.0.*,>=4.12->ipykernel->jupyter_dash) (306)\n",
      "Requirement already satisfied: tenacity>=6.2.0 in c:\\users\\bigon\\anaconda3\\envs\\myenv\\lib\\site-packages (from plotly>=5.0.0->dash->jupyter_dash) (8.2.3)\n",
      "Requirement already satisfied: wcwidth in c:\\users\\bigon\\anaconda3\\envs\\myenv\\lib\\site-packages (from prompt-toolkit!=3.0.37,<3.1.0,>=3.0.30->ipython->jupyter_dash) (0.2.9)\n",
      "Requirement already satisfied: executing>=1.2.0 in c:\\users\\bigon\\anaconda3\\envs\\myenv\\lib\\site-packages (from stack-data->ipython->jupyter_dash) (2.0.1)\n",
      "Requirement already satisfied: asttokens>=2.1.0 in c:\\users\\bigon\\anaconda3\\envs\\myenv\\lib\\site-packages (from stack-data->ipython->jupyter_dash) (2.4.1)\n",
      "Requirement already satisfied: pure-eval in c:\\users\\bigon\\anaconda3\\envs\\myenv\\lib\\site-packages (from stack-data->ipython->jupyter_dash) (0.2.2)\n"
     ]
    }
   ],
   "source": [
    "!pip install pandas\n",
    "import sys\n",
    "!{sys.executable} -m pip install jupyter_dash\n",
    "import pandas as pd\n",
    "import dash\n",
    "import dash_html_components as html\n",
    "import dash_core_components as dcc\n",
    "from dash.dependencies import Input, Output\n",
    "import plotly.express as px"
   ]
  },
  {
   "cell_type": "code",
   "execution_count": 160,
   "id": "4ba30261-f909-4ad7-a7df-9899a272dfec",
   "metadata": {
    "tags": []
   },
   "outputs": [
    {
     "name": "stdout",
     "output_type": "stream",
     "text": [
      "{0: 0, 1000: 1000, 2000: 2000, 3000: 3000, 4000: 4000, 5000: 5000, 6000: 6000, 7000: 7000, 8000: 8000, 9000: 9000, 10000: 10000}\n"
     ]
    }
   ],
   "source": [
    "spacex_df=pd.read_csv(\"https://cf-courses-data.s3.us.cloud-object-storage.appdomain.cloud/IBM-DS0321EN-SkillsNetwork/datasets/spacex_launch_dash.csv\")\n",
    "max_value = spacex_df['Payload Mass (kg)'].max()\n",
    "min_value = spacex_df['Payload Mass (kg)'].min()\n",
    "#spacex_df['VersionE']=spacex_df['Booster Version'].str.split().str[1]\n",
    "spacex_df.head()\n",
    "listV=[]\n",
    "for i in range(0,11000,1000):\n",
    "    listV.append(i)\n",
    "SlideMarks=dict(zip(listV,listV))\n",
    "\n",
    "print(SlideMarks)"
   ]
  },
  {
   "cell_type": "code",
   "execution_count": 167,
   "id": "195aaaa5-02e7-4db9-92af-c23f64c414c3",
   "metadata": {
    "tags": []
   },
   "outputs": [],
   "source": [
    "\n",
    "app = dash.Dash(__name__)\n",
    "app.layout = html.Div(children=[html.H1('SpaceX Launch Records Dashboard',\n",
    "                                        style={'textAlign': 'center', 'color': '#503D36',\n",
    "                                               'font-size': 40}),\n",
    "                                # TASK 1: Add a dropdown list to enable Launch Site selection\n",
    "                                # The default select value is for ALL sites\n",
    "                                # dcc.Dropdown(id='site-dropdown',...)\n",
    "                                html.Br(),\n",
    "                                html.Div(dcc.Dropdown(id='site-dropdown',\n",
    "                                  options=[{'label': 'All Sites', 'value': 'ALL'},\n",
    "                                           {'label': 'CCAFS LC-40', 'value': 'CCAFS LC-40'},\n",
    "                                           {'label': 'CCAFS SLC-40', 'value': 'CCAFS SLC-40'},\n",
    "                                           {'label': 'KSC LC-39A', 'value': 'KSC LC-39A'},\n",
    "                                           {'label': 'VAFB SLC-4E', 'value': 'VAFB SLC-4E'}],\n",
    "                                    value='ALL',\n",
    "                                    placeholder=\"place holder here\",\n",
    "                                    searchable=True\n",
    "                                )\n",
    "                                ),\n",
    "                                # TASK 2: Add a pie chart to show the total successful launches count for all sites\n",
    "                                # If a specific launch site was selected, show the Success vs. Failed counts for the site\n",
    "                                html.Div(dcc.Graph(id='success-pie-chart')),\n",
    "                                html.Br(),\n",
    "\n",
    "                                html.P(\"Payload range (Kg):\"),\n",
    "                                # TASK 3: Add a slider to select payload range\n",
    "                                #dcc.RangeSlider(id='payload-slider',...)\n",
    "                                html.Div(dcc.RangeSlider(id='payload-slider',\n",
    "                                         min=0, max=10000, step=1000,\n",
    "                                         marks=SlideMarks,\n",
    "                                         value=[min_value, max_value])),\n",
    "                                \n",
    "                                # TASK 4: Add a scatter chart to show the correlation between payload and launch success\n",
    "                                html.Div(dcc.Graph(id='success-payload-scatter-chart')),\n",
    "                                ])"
   ]
  },
  {
   "cell_type": "code",
   "execution_count": 168,
   "id": "ca2a75b3-867d-4781-a6e6-e9a1ee93b3ca",
   "metadata": {
    "tags": []
   },
   "outputs": [
    {
     "data": {
      "text/html": [
       "\n",
       "        <iframe\n",
       "            width=\"100%\"\n",
       "            height=\"650\"\n",
       "            src=\"http://127.0.0.1:8050/\"\n",
       "            frameborder=\"0\"\n",
       "            allowfullscreen\n",
       "            \n",
       "        ></iframe>\n",
       "        "
      ],
      "text/plain": [
       "<IPython.lib.display.IFrame at 0x1df694ea5b0>"
      ]
     },
     "metadata": {},
     "output_type": "display_data"
    }
   ],
   "source": [
    "# TASK 2:\n",
    "# Add a callback function for `site-dropdown` as input, `success-pie-chart` as output\n",
    "# Function decorator to specify function input and output\n",
    "''''''\n",
    "@app.callback(Output(component_id='success-pie-chart', component_property='figure'),\n",
    "              Input(component_id='site-dropdown', component_property='value'))\n",
    "def get_pie_chart(entered_site):    \n",
    "    filtered_df = spacex_df\n",
    "    if entered_site == 'ALL':        \n",
    "        filtered_df=filtered_df[filtered_df['class']==1]\n",
    "        LaunchSites=filtered_df.groupby(['Launch Site']).groups.keys()\n",
    "        Successfultimes=filtered_df.groupby(['Launch Site']).size().tolist()\n",
    "        fig = px.pie(values=Successfultimes, \n",
    "        names=LaunchSites, \n",
    "        title='20231031')\n",
    "        return fig\n",
    "    else:\n",
    "        filtered_df=filtered_df[filtered_df['Launch Site']==entered_site]\n",
    "        TC=len(filtered_df[filtered_df['class']==1])\n",
    "        FC=len(filtered_df[filtered_df['class']==0])      \n",
    "        fig = px.pie(values=[TC,FC], \n",
    "        names=['Successful','Fail'], \n",
    "        title='20231031-1')\n",
    "        return fig\n",
    "        # return the outcomes piechart for a selected site\n",
    "\n",
    "# TASK 4:\n",
    "# Add a callback function for `site-dropdown` and `payload-slider` as inputs, `success-payload-scatter-chart` as output\n",
    "@app.callback(Output(component_id='success-payload-scatter-chart', component_property='figure'),\n",
    "              [Input(component_id='site-dropdown', component_property='value'), Input(component_id=\"payload-slider\", component_property=\"value\")])\n",
    "             \n",
    "def get_scatter(entered_site,enter_slideValue):    \n",
    "    minV=enter_slideValue[0]\n",
    "    maxV=enter_slideValue[1]\n",
    "    df=spacex_df[spacex_df['Payload Mass (kg)'].between(minV,maxV)]\n",
    "#    return px.scatter(df,x='Payload Mass (kg)',y='class',color='Booster Version Category')      \n",
    "    if entered_site == 'ALL':                \n",
    "        fig=px.scatter(df,x='Payload Mass (kg)',y='class',color='Booster Version Category',title='ALL',render_mode='webgl')\n",
    "        return fig\n",
    "    else:\n",
    "        SpecificSite_df=df[df['Launch Site']==entered_site]\n",
    "        fig=px.scatter(SpecificSite_df,x='Payload Mass (kg)',y='class',color='Booster Version Category', title=entered_site,render_mode='webgl')\n",
    "        return fig\n",
    "''''''\n",
    "# Run the app\n",
    "if __name__ == '__main__':\n",
    "    app.run_server(mode='inline')"
   ]
  },
  {
   "cell_type": "code",
   "execution_count": null,
   "id": "5fcc922e-f85f-4b92-a032-ccc0244053e0",
   "metadata": {},
   "outputs": [],
   "source": []
  }
 ],
 "metadata": {
  "kernelspec": {
   "display_name": "myenv",
   "language": "python",
   "name": "myenv"
  },
  "language_info": {
   "codemirror_mode": {
    "name": "ipython",
    "version": 3
   },
   "file_extension": ".py",
   "mimetype": "text/x-python",
   "name": "python",
   "nbconvert_exporter": "python",
   "pygments_lexer": "ipython3",
   "version": "3.8.18"
  }
 },
 "nbformat": 4,
 "nbformat_minor": 5
}
